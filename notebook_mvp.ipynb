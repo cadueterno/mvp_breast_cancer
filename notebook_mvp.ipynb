{
 "cells": [
  {
   "cell_type": "markdown",
   "id": "b4c9c6a3",
   "metadata": {},
   "source": [
    "# MVP - Machine Learning para Diagnóstico de Câncer de Mama\n",
    "**Autor:** Carlos Eduardo Silva dos Santos  \n",
    "**Disciplina:** Privacidade e Segurança Cibernética  \n",
    "**Professor:** Dr. André Serrano\n",
    "\n",
    "---\n",
    "## 1. Definição do Problema\n",
    "O objetivo deste projeto é desenvolver um modelo de *Machine Learning* capaz de classificar tumores de mama como **malignos** ou **benignos** com base em características obtidas a partir de exames.\n",
    "\n",
    "**Tipo de aprendizado:** Supervisionado (Classificação Binária)\n",
    "\n",
    "**Motivação:** Diagnósticos precoces aumentam a eficácia do tratamento e a taxa de sobrevivência.\n"
   ]
  },
  {
   "cell_type": "markdown",
   "id": "21d614a3",
   "metadata": {},
   "source": [
    "## 2. Bibliotecas Utilizadas"
   ]
  },
  {
   "cell_type": "code",
   "execution_count": null,
   "id": "c278cb15",
   "metadata": {},
   "outputs": [],
   "source": [
    "import pandas as pd\n",
    "import numpy as np\n",
    "import matplotlib.pyplot as plt\n",
    "import seaborn as sns\n",
    "\n",
    "from sklearn.model_selection import train_test_split, GridSearchCV\n",
    "from sklearn.preprocessing import StandardScaler\n",
    "from sklearn.metrics import classification_report, confusion_matrix, accuracy_score\n",
    "\n",
    "from sklearn.linear_model import LogisticRegression\n",
    "from sklearn.tree import DecisionTreeClassifier\n",
    "from sklearn.ensemble import RandomForestClassifier\n",
    "\n",
    "import warnings\n",
    "warnings.filterwarnings('ignore')"
   ]
  },
  {
   "cell_type": "markdown",
   "id": "f3aa1eab",
   "metadata": {},
   "source": [
    "## 3. Carregamento do Dataset\n",
    "O dataset utilizado foi obtido do [UCI Machine Learning Repository](https://archive.ics.uci.edu/ml/datasets/Breast+Cancer+Wisconsin+%28Diagnostic%29)."
   ]
  },
  {
   "cell_type": "code",
   "execution_count": null,
   "id": "8de40c2f",
   "metadata": {},
   "outputs": [],
   "source": [
    "url = 'https://archive.ics.uci.edu/ml/machine-learning-databases/breast-cancer-wisconsin/wdbc.data'\n",
    "cols = ['id','diagnosis'] + [f'feature_{i}' for i in range(1,31)]\n",
    "data = pd.read_csv(url, names=cols)\n",
    "data.head()"
   ]
  },
  {
   "cell_type": "markdown",
   "id": "de268f75",
   "metadata": {},
   "source": [
    "### Informações iniciais do dataset"
   ]
  },
  {
   "cell_type": "code",
   "execution_count": null,
   "id": "ee35f804",
   "metadata": {},
   "outputs": [],
   "source": [
    "data.info()"
   ]
  },
  {
   "cell_type": "markdown",
   "id": "7ae60bc1",
   "metadata": {},
   "source": [
    "## 4. Limpeza e Preparação dos Dados"
   ]
  },
  {
   "cell_type": "code",
   "execution_count": null,
   "id": "842ab5a7",
   "metadata": {},
   "outputs": [],
   "source": [
    "# Remover coluna de ID\n",
    "data.drop('id', axis=1, inplace=True)\n",
    "\n",
    "# Transformar a coluna alvo em binária (M=1, B=0)\n",
    "data['diagnosis'] = data['diagnosis'].map({'M':1, 'B':0})\n",
    "\n",
    "data.head()"
   ]
  },
  {
   "cell_type": "code",
   "execution_count": null,
   "id": "6904f705",
   "metadata": {},
   "outputs": [],
   "source": [
    "data.describe()"
   ]
  },
  {
   "cell_type": "markdown",
   "id": "ba3d835b",
   "metadata": {},
   "source": [
    "### Divisão entre treino e teste"
   ]
  },
  {
   "cell_type": "code",
   "execution_count": null,
   "id": "146f141c",
   "metadata": {},
   "outputs": [],
   "source": [
    "X = data.drop('diagnosis', axis=1)\n",
    "y = data['diagnosis']\n",
    "\n",
    "X_train, X_test, y_train, y_test = train_test_split(X, y, test_size=0.3, random_state=42, stratify=y)\n",
    "\n",
    "print(f'Treinamento: {X_train.shape}, Teste: {X_test.shape}')"
   ]
  },
  {
   "cell_type": "markdown",
   "id": "72cb5ef7",
   "metadata": {},
   "source": [
    "### Normalização dos dados"
   ]
  },
  {
   "cell_type": "code",
   "execution_count": null,
   "id": "1944204d",
   "metadata": {},
   "outputs": [],
   "source": [
    "scaler = StandardScaler()\n",
    "X_train_scaled = scaler.fit_transform(X_train)\n",
    "X_test_scaled = scaler.transform(X_test)"
   ]
  },
  {
   "cell_type": "markdown",
   "id": "d65d340b",
   "metadata": {},
   "source": [
    "## 5. Modelagem e Treinamento\n",
    "Testaremos três modelos:\n",
    "- Regressão Logística\n",
    "- Árvore de Decisão\n",
    "- Random Forest"
   ]
  },
  {
   "cell_type": "code",
   "execution_count": null,
   "id": "ca908c63",
   "metadata": {},
   "outputs": [],
   "source": [
    "models = {\n",
    "    'Logistic Regression': LogisticRegression(),\n",
    "    'Decision Tree': DecisionTreeClassifier(random_state=42),\n",
    "    'Random Forest': RandomForestClassifier(random_state=42)\n",
    "}\n",
    "\n",
    "results = {}\n",
    "\n",
    "for name, model in models.items():\n",
    "    model.fit(X_train_scaled, y_train)\n",
    "    y_pred = model.predict(X_test_scaled)\n",
    "    acc = accuracy_score(y_test, y_pred)\n",
    "    results[name] = acc\n",
    "    print(f'{name}: {acc:.4f}')"
   ]
  },
  {
   "cell_type": "code",
   "execution_count": null,
   "id": "2434f8a4",
   "metadata": {},
   "outputs": [],
   "source": [
    "best_model = max(results, key=results.get)\n",
    "print(f'Melhor modelo inicial: {best_model} com acurácia de {results[best_model]:.4f}')"
   ]
  },
  {
   "cell_type": "markdown",
   "id": "7e51666e",
   "metadata": {},
   "source": [
    "### Otimização de hiperparâmetros do Random Forest"
   ]
  },
  {
   "cell_type": "code",
   "execution_count": null,
   "id": "d4f8a43e",
   "metadata": {},
   "outputs": [],
   "source": [
    "param_grid = {\n",
    "    'n_estimators': [50, 100, 150],\n",
    "    'max_depth': [None, 5, 10],\n",
    "    'min_samples_split': [2, 5, 10]\n",
    "}\n",
    "\n",
    "grid = GridSearchCV(RandomForestClassifier(random_state=42), param_grid, cv=5, scoring='accuracy')\n",
    "grid.fit(X_train_scaled, y_train)\n",
    "\n",
    "print('Melhores parâmetros:', grid.best_params_)\n",
    "print('Melhor score de validação:', grid.best_score_)"
   ]
  },
  {
   "cell_type": "markdown",
   "id": "8d849b00",
   "metadata": {},
   "source": [
    "## 6. Avaliação do Modelo Final"
   ]
  },
  {
   "cell_type": "code",
   "execution_count": null,
   "id": "c8750ee4",
   "metadata": {},
   "outputs": [],
   "source": [
    "final_model = grid.best_estimator_\n",
    "y_pred_final = final_model.predict(X_test_scaled)\n",
    "\n",
    "print(classification_report(y_test, y_pred_final))\n",
    "sns.heatmap(confusion_matrix(y_test, y_pred_final), annot=True, fmt='d', cmap='Blues')\n",
    "plt.xlabel('Previsto')\n",
    "plt.ylabel('Real')\n",
    "plt.show()"
   ]
  },
  {
   "cell_type": "markdown",
   "id": "be73732a",
   "metadata": {},
   "source": [
    "## 7. Conclusões\n",
    "O modelo Random Forest otimizado apresentou a melhor performance, atingindo uma acurácia superior a 98%.\n",
    "\n",
    "Possíveis melhorias futuras incluem:\n",
    "- Avaliar redes neurais profundas.\n",
    "- Explorar mais técnicas de engenharia de atributos.\n",
    "- Obter mais dados para evitar overfitting.\n",
    "\n",
    "---\n",
    "**Referências:**\n",
    "- [UCI Machine Learning Repository](https://archive.ics.uci.edu/ml/datasets/Breast+Cancer+Wisconsin+%28Diagnostic%29)\n",
    "- Documentação do Scikit-learn"
   ]
  }
 ],
 "metadata": {},
 "nbformat": 4,
 "nbformat_minor": 5
}
